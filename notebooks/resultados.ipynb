{
 "cells": [
  {
   "cell_type": "code",
   "execution_count": 3,
   "id": "b8218986-e050-472b-a187-b33f402204ca",
   "metadata": {},
   "outputs": [],
   "source": [
    "import sys\n",
    "import os\n",
    "sys.path.append(os.path.abspath('..'))"
   ]
  },
  {
   "cell_type": "code",
   "execution_count": 3,
   "id": "841b623f-1dd6-4a61-9f11-7df829ef01b8",
   "metadata": {},
   "outputs": [],
   "source": [
    "import pandas as pd\n",
    "from src.data.scrapping import get_escrutinio, get_resultado, get_recaudacion_bote"
   ]
  },
  {
   "cell_type": "code",
   "execution_count": 3,
   "id": "4e074041-3c89-4560-b8ef-ea1a4fd9b296",
   "metadata": {},
   "outputs": [],
   "source": [
    "jornada_actual = 'jornada_32' # importarla de config\n",
    "temporada = '22-23'\n",
    "recaudacion = 1_500_000\n",
    "competiciones = 'ESP1-ESP2'"
   ]
  },
  {
   "cell_type": "markdown",
   "id": "501731dc-a24b-44b1-88da-c232c84bf023",
   "metadata": {
    "tags": []
   },
   "source": [
    "##### master df"
   ]
  },
  {
   "cell_type": "code",
   "execution_count": 6,
   "id": "e4bbbbb2-9bb6-4bad-9227-e1dc2126be01",
   "metadata": {
    "collapsed": false,
    "jupyter": {
     "outputs_hidden": false
    },
    "pycharm": {
     "name": "#%%\n"
    }
   },
   "outputs": [],
   "source": [
    "df = pd.read_pickle(f'../data/dfs/{temporada}/df_{jornada_actual}.pkl')"
   ]
  },
  {
   "cell_type": "code",
   "execution_count": 28,
   "id": "389905e8-4117-4a0a-9565-d42e3dee131c",
   "metadata": {},
   "outputs": [],
   "source": [
    "class Test():\n",
    "    def __init__(self, x):\n",
    "        self.x = x\n",
    "    \n",
    "    def test(self,t):\n",
    "        y = t+2"
   ]
  },
  {
   "cell_type": "code",
   "execution_count": 29,
   "id": "f8f95c0d-093b-4d97-915e-95fdb89ad4bf",
   "metadata": {},
   "outputs": [],
   "source": [
    "regr = Test(4)"
   ]
  },
  {
   "cell_type": "code",
   "execution_count": 30,
   "id": "c1cc6548-f81b-41fe-bf05-1820d93f9f32",
   "metadata": {},
   "outputs": [],
   "source": [
    "regr.test(4)"
   ]
  },
  {
   "cell_type": "code",
   "execution_count": 31,
   "id": "a276afe2-b59d-4a85-9a08-adba2bff6a67",
   "metadata": {},
   "outputs": [
    {
     "ename": "AttributeError",
     "evalue": "'Test' object has no attribute 'y'",
     "output_type": "error",
     "traceback": [
      "\u001b[0;31m---------------------------------------------------------------------------\u001b[0m",
      "\u001b[0;31mAttributeError\u001b[0m                            Traceback (most recent call last)",
      "Input \u001b[0;32mIn [31]\u001b[0m, in \u001b[0;36m<cell line: 1>\u001b[0;34m()\u001b[0m\n\u001b[0;32m----> 1\u001b[0m \u001b[43mregr\u001b[49m\u001b[38;5;241;43m.\u001b[39;49m\u001b[43my\u001b[49m\n",
      "\u001b[0;31mAttributeError\u001b[0m: 'Test' object has no attribute 'y'"
     ]
    }
   ],
   "source": [
    "regr.y"
   ]
  }
 ],
 "metadata": {
  "kernelspec": {
   "display_name": "quiniela",
   "language": "python",
   "name": "quiniela"
  },
  "language_info": {
   "codemirror_mode": {
    "name": "ipython",
    "version": 3
   },
   "file_extension": ".py",
   "mimetype": "text/x-python",
   "name": "python",
   "nbconvert_exporter": "python",
   "pygments_lexer": "ipython3",
   "version": "3.11.1"
  }
 },
 "nbformat": 4,
 "nbformat_minor": 5
}
